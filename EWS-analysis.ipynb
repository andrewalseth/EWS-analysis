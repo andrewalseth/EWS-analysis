{
 "cells": [
  {
   "cell_type": "markdown",
   "metadata": {},
   "source": [
    "# Enduro World Series (EWS) web scraping and analysis\n",
    "\n",
    "This notebook downloads and analyzes the results from the EWS from its inception to current, and we carry out analysis on these results.\n",
    "\n",
    "First, we begin by downloading results and scraping the files from https://www.enduroworldseries.com/"
   ]
  },
  {
   "cell_type": "code",
   "execution_count": 145,
   "metadata": {},
   "outputs": [],
   "source": [
    "import bs4\n",
    "import requests\n",
    "import typing_extensions\n",
    "import re\n",
    "import copy\n",
    "import csv\n",
    "import os\n",
    "\n",
    "import pandas as pd\n",
    "from PyPDF2 import PdfWriter, PdfReader\n"
   ]
  },
  {
   "cell_type": "markdown",
   "metadata": {},
   "source": [
    "Some functions to make web scraping more pretty. We're using the `requests` package to to download page information and returning in a cleaned up format using `bs4`."
   ]
  },
  {
   "cell_type": "code",
   "execution_count": 2,
   "metadata": {},
   "outputs": [],
   "source": [
    "def download_page(url):\n",
    "\theaders = {'User-Agent': 'Mozilla/5.0 (Macintosh; Intel Mac OS X 10_15_7) AppleWebKit/537.36 (KHTML, like Gecko) Chrome/103.0.0.0 Safari/537.36'}\n",
    "\n",
    "\treq = requests.get(url, headers=headers)\n",
    "\n",
    "\ttry:\n",
    "\t\treq.raise_for_status()\n",
    "\texcept Exception as e:\n",
    "\t\tprint(f'Downloading failed: {e}')\n",
    "\t\n",
    "\treturn bs4.BeautifulSoup(req.text, \"html.parser\")"
   ]
  },
  {
   "cell_type": "code",
   "execution_count": 4,
   "metadata": {},
   "outputs": [],
   "source": [
    "# test download of 2016 results\n",
    "\n",
    "test_url = \"https://www.enduroworldseries.com/races/1/2016/\" \n",
    "\n",
    "ews_soup = download_page(test_url)"
   ]
  },
  {
   "cell_type": "code",
   "execution_count": 5,
   "metadata": {},
   "outputs": [
    {
     "data": {
      "text/plain": [
       "<!DOCTYPE html>\n",
       "\n",
       "<html lang=\"en\">\n",
       "<head>\n",
       "<meta charset=\"utf-8\"/>\n",
       "<title>Enduro World Series | EWS Race Series</title>\n",
       "<meta content=\"\" name=\"description\"/>\n",
       "<meta content=\"Enduro World Series Race Labs\" name=\"author\"/>\n",
       "<meta content=\"Enduro World Series | EWS Race Series\" property=\"og:title\">\n",
       "<meta content=\"List of all the events in the EWS calendar for the current year\" property=\"og:description\">\n",
       "<meta content=\"https://admin.enduroworldseries.com/uploads/pagebanners/EWS_banner.png\" property=\"og:image\">\n",
       "<!-- Mobile Meta -->\n",
       "<meta content=\"width=device-width, initial-scale=1.0\" name=\"viewport\"/>\n",
       "<link href=\"/images/favicon.png\" rel=\"shortcut icon\"/>\n",
       "<link href=\"https://fonts.googleapis.com/css?family=Open+Sans:400italic,700italic,400,700,300&amp;subset=latin,latin-ext\" rel=\"stylesheet\" type=\"text/css\"/>\n",
       "<link href=\"https://fonts.googleapis.com/css?family=PT+Serif\" rel=\"stylesheet\" type=\"text/css\"/>\n",
       "<link href=\"https://fonts.googleapis.com/css?family=Exo:100,200,300,400,500,500i,600,700,800,900\" rel=\"stylesheet\"/>\n",
       "<link href=\"https://cdnjs.cloudflare.com/ajax/libs/font-awesome/4.7.0/css/font-awesome.min.css\" rel=\"stylesheet\"/>\n",
       "<link href=\"https://cdnjs.cloudflare.com/ajax/libs/toastr.js/latest/css/toastr.min.css\" rel=\"stylesheet\">\n",
       "<!-- Bootstrap core CSS -->\n",
       "<link href=\"/bootstrap/css/bootstrap.css\" rel=\"stylesheet\"/>\n",
       "<!-- Plugins -->\n",
       "<link href=\"/plugins/magnific-popup/magnific-popup.css\" rel=\"stylesheet\"/>\n",
       "<link href=\"/css/animations.css\" rel=\"stylesheet\"/>\n",
       "<link href=\"https://cdn.datatables.net/1.10.19/css/jquery.dataTables.min.css\" rel=\"stylesheet\" type=\"text/css\"/>\n",
       "<link href=\"https://cdn.datatables.net/responsive/2.2.3/css/responsive.dataTables.min.css\" rel=\"stylesheet\" type=\"text/css\"/>\n",
       "<link href=\"/css/style.css?1660044280\" rel=\"stylesheet\"/>\n",
       "<link href=\"/css/ews.css?1660044280\" rel=\"stylesheet\"/>\n",
       "<link href=\"/css/custom.css?1660044280\" rel=\"stylesheet\"/>\n",
       "</link></meta></meta></meta></head>\n",
       "<body class=\"front\">\n",
       "<div class=\"scrollToTop\"><i class=\"fa fa-angle-up\"></i></div>\n",
       "<div class=\"page-wrapper\">\n",
       "<script src=\"https://www.google.com/recaptcha/api.js\"></script><div class=\"header-top dark\"><div class=\"container\"><div class=\"row\"><div class=\"col-xs-1 col-sm-6\"><div class=\"header-top-first clearfix\"><ul class=\"social-links clearfix hidden-xs\"> <li class=\"facebook\"><a href=\"https://www.facebook.com/EnduroWorldSeries\" target=\"_blank\"><i class=\"fa fa-facebook\"></i></a></li> <li class=\"instagram\"><a href=\"https://www.instagram.com/world_enduro/\" target=\"_blank\"><i class=\"fa fa-instagram\"></i></a></li> <li class=\"twitter\"><a href=\"https://twitter.com/World_Enduro\" target=\"_blank\"><i class=\"fa fa-twitter\"></i></a></li> <li class=\"youtube\"><a href=\"https://www.youtube.com/channel/UCWS4nfoou79mwo9nHew49fA\" target=\"_blank\"><i class=\"fa fa-youtube\"></i></a></li> </ul><div class=\"social-links hidden-lg hidden-md hidden-sm\"><div class=\"btn-group dropdown\"><button class=\"btn dropdown-toggle\" data-toggle=\"dropdown\" type=\"button\"><i class=\"fa fa-share-alt\"></i></button> <ul class=\"dropdown-menu dropdown-animation\"><li class=\"facebook\"><a href=\"https://www.facebook.com/EnduroWorldSeries\" target=\"_blank\"><i class=\"fa fa-facebook\"></i></a></li> <li class=\"instagram\"><a href=\"https://www.instagram.com/world_enduro/\" target=\"_blank\"><i class=\"fa fa-instagram\"></i></a></li> <li class=\"twitter\"><a href=\"https://twitter.com/World_Enduro\" target=\"_blank\"><i class=\"fa fa-twitter\"></i></a></li> <li class=\"youtube\"><a href=\"https://www.youtube.com/channel/UCWS4nfoou79mwo9nHew49fA\" target=\"_blank\"><i class=\"fa fa-youtube-play\"></i></a></li> </ul></div></div></div><!-- header-top-first end --></div><div class=\"col-xs-11 col-sm-6\"><div class=\"clearfix\" id=\"header-top-second\"><div class=\"header-top-dropdown\"><input id=\"ews_uid\" type=\"hidden\" value=\"RlB2R0h0VFN4dFJHREJEZ2VUTU1Fdz09\"/> <div class=\"btn-group dropdown\"><button class=\"btn ews-membership-button\" type=\"button\"><i class=\"fa fa-certificate hidden-xs\"></i> EWS Membership</button></div><div class=\"btn-group dropdown\"><button class=\"btn ewslogintbn\" type=\"button\"><i class=\"fa fa-user hidden-xs\"></i> Login/Create EWS Account</button></div> </div></div></div></div></div></div></div><div aria-hidden=\"true\" aria-labelledby=\"myModalLabel\" class=\"modal fade in\" id=\"ewslogmodal\" role=\"dialog\" tabindex=\"-1\"><div class=\"modal-dialog\"><div class=\"modal-content\"><div class=\"modal-header\"><button class=\"close\" data-dismiss=\"modal\" type=\"button\"><span aria-hidden=\"true\">×</span><span class=\"sr-only\">Close</span></button><h4 class=\"modal-title\" id=\"myModalLabel\">EWS User login</h4></div><div class=\"modal-body\"><form class=\"login-form\"><div class=\"form-group\"><p>First time here? We may recognise you, try your existing email address and <a class=\"pwdfgt\" href=\"https://portal.enduroworldseries.com/\" rel=\"pwdfgt\">create a new password.</a></p><p><a class=\"btn btn-sm btn-primary\" href=\"https://portal.enduroworldseries.com/create-account/\">New to the EWS? Sign up HERE </a></p></div><div class=\"form-group has-feedback\"><label class=\"control-label\">Email address</label> <input class=\"form-control\" id=\"ewsusreml\" placeholder=\"your email address\" type=\"text\"/> <i class=\"fa fa-envelope form-control-feedback\"></i></div><div class=\"form-group has-feedback\"><label class=\"control-label\">Password</label> <input class=\"form-control\" id=\"ewsusrpwd\" placeholder=\"\" type=\"password\"/> <i class=\"fa fa-lock form-control-feedback\"></i></div><div class=\"form-group has-feedback\"><div class=\"g-recaptcha\" data-sitekey=\"6LfhmUgUAAAAANzNYes_4zRKrTiWaUQLa1FCxPr8\"></div></div><br/> <input id=\"referurl\" type=\"hidden\" value=\"UyttVmpoVXR0THFwNitvTjROS2hWd1d6WkNwd1JPaDBleDFXbjJLVDUrUzg3b3FGSlRpdWlGYUp3cFpPd1hJVw==\"/></form></div><div class=\"modal-footer\"><button class=\"btn btn-group btn-primary btn-sm ewsusrlogin\" type=\"button\">Log In</button> <button class=\"btn btn-sm btn-light\" data-dismiss=\"modal\" type=\"button\">Close</button><br/><br/> <a href=\"https://portal.enduroworldseries.com/create-account/\">Sign up for EWS user account</a> |<a href=\"https://portal.enduroworldseries.com/\">Forgotten my password</a></div></div></div></div> <header class=\"header fixed dark clearfix\">\n",
       "<div class=\"container\">\n",
       "<div class=\"row\">\n",
       "<div class=\"col-md-3\">\n",
       "<div class=\"header-left clearfix\">\n",
       "<div class=\"logo\">\n",
       "<a href=\"/\"><img alt=\"Enduro World Series Logo\" id=\"logo\" src=\"/images/ews_logo.png\"/></a>\n",
       "</div>\n",
       "</div>\n",
       "</div>\n",
       "<div class=\"col-md-9\">\n",
       "<div class=\"header-right clearfix\">\n",
       "<div class=\"main-navigation animated\">\n",
       "<nav class=\"navbar navbar-default\">\n",
       "<div class=\"container-fluid\">\n",
       "<div class=\"navbar-header\">\n",
       "<button class=\"navbar-toggle\" data-target=\"#navbar-collapse-1\" data-toggle=\"collapse\" type=\"button\">\n",
       "<span class=\"sr-only\">Toggle navigation</span>\n",
       "<span class=\"icon-bar\"></span>\n",
       "<span class=\"icon-bar\"></span>\n",
       "<span class=\"icon-bar\"></span>\n",
       "</button>\n",
       "</div>\n",
       "<div class=\"collapse navbar-collapse flushed\" id=\"navbar-collapse-1\"><ul class=\"nav navbar-nav navbar-right\"><li><a href=\"/news/\">News</a></li><li class=\"dropdown\"><a class=\"dropdown-toggle\" data-toggle=\"dropdown\" href=\"#\">Events</a><ul class=\"dropdown-menu\"><li class=\"dropdown\"><a class=\"dropdown-toggle\" data-toggle=\"dropdown\" href=\"#\">Enduro World Series</a><ul class=\"dropdown-menu\"><li><a href=\"/race/ews-round-1/ews-tweed-valley/202186/\"><i class=\"icon-right-open\"></i>EWS Tweed Valley</a></li><li><a href=\"/race/ews-round-2/ews-petzen-jamnica/202187/\"><i class=\"icon-right-open\"></i>EWS Petzen Jamnica</a></li><li><a href=\"/race/ews-round-3/ews-val-di-fassa-trentino/202188/\"><i class=\"icon-right-open\"></i>EWS Val Di Fassa Trentino</a></li><li><a href=\"/race/ews-round-4/ews-whistler/202189/\"><i class=\"icon-right-open\"></i>EWS Whistler</a></li><li><a href=\"/race/ews-round-5/ews-burke/202190/\"><i class=\"icon-right-open\"></i>EWS Burke</a></li><li><a href=\"/race/ews-round-6/ews-sugarloaf/202191/\"><i class=\"icon-right-open\"></i>EWS Sugarloaf</a></li><li><a href=\"/race/ews-round-7/ews-crans-montana/202192/\"><i class=\"icon-right-open\"></i>EWS Crans-Montana</a></li><li><a href=\"/race/ews-round-8/ews-loudenvielle/202193/\"><i class=\"icon-right-open\"></i>EWS Loudenvielle</a></li><li><a href=\"/races/5/2022/\"><i aria-hidden=\"true\" class=\"fa fa-calendar\"></i>2022 Trophy of Nations</a></li><li><a href=\"/races/1/2022/\"><i aria-hidden=\"true\" class=\"fa fa-calendar\"></i>2022 Race Calendar</a></li></ul></li><li class=\"dropdown\"><a class=\"dropdown-toggle\" data-toggle=\"dropdown\" href=\"#\">EWS E-series</a><ul class=\"dropdown-menu\"><li><a href=\"/race/e-series/ews-e-tweed-valley/202194/\"><i class=\"icon-right-open\"></i>EWS-E Tweed Valley</a></li><li><a href=\"/race/e-series/ews-e-petzen-jamnica/202195/\"><i class=\"icon-right-open\"></i>EWS-E Petzen Jamnica</a></li><li><a href=\"/race/e-series/ews-e-valberg/202196/\"><i class=\"icon-right-open\"></i>EWS-E Valberg</a></li><li><a href=\"/race/e-series/ews-e-crans-montana/202197/\"><i class=\"icon-right-open\"></i>EWS-E Crans-Montana</a></li><li><a href=\"/race/e-series/ews-e-finale-ligure/202198/\"><i class=\"icon-right-open\"></i>EWS-E Finale Ligure</a></li><li><a href=\"/races/6/2022/\"><i aria-hidden=\"true\" class=\"fa fa-calendar\"></i>2022 Race Calendar</a></li></ul></li><li><a href=\"/race/qualifiers/\"> EWS Qualifiers </a></li><li><a href=\"/races/\" style=\"color:#f28c00\"><i aria-hidden=\"true\" class=\"fa fa-calendar\"></i>Full event calendar</a></li></ul></li><li class=\"dropdown\"><a class=\"dropdown-toggle\" data-toggle=\"dropdown\" href=\"#\">Fanzone</a><ul class=\"dropdown-menu\"><li><a href=\"/ews-tv/\">EWS TV..</a></li><li><a href=\"/teams/\">Team Fanclubs</a></li><li style=\"display:none\"><a href=\"/riders/\">Rider Fanclubs</a></li><li><a href=\"/ews-fanzone/rider-radio/\" target=\"_blank\">Spotify Rider Radio</a></li></ul></li><li class=\"dropdown\"><a class=\"dropdown-toggle\" data-toggle=\"dropdown\" href=\"#\">Results</a><ul class=\"dropdown-menu\"><li class=\"dropdown\"><a class=\"dropdown-toggle\" data-toggle=\"dropdown\" href=\"#\">EWS Series Results</a><ul class=\"dropdown-menu\"><li><a href=\"/race/ews-round-1/ews-tweed-valley/202186/results/\"><i class=\"icon-right-open\"></i>EWS Tweed Valley</a></li><li><a href=\"/race/ews-round-2/ews-petzen-jamnica/202187/results/\"><i class=\"icon-right-open\"></i>EWS Petzen Jamnica</a></li><li><a href=\"/race/ews-round-3/ews-val-di-fassa-trentino/202188/results/\"><i class=\"icon-right-open\"></i>EWS Val Di Fassa Trentino</a></li><li><a href=\"/race/ews-round-4/ews-whistler/202189/results/\"><i class=\"icon-right-open\"></i>EWS Whistler</a></li><li><a href=\"/race/ews-round-5/ews-burke/202190/results/\"><i class=\"icon-right-open\"></i>EWS Burke</a></li><li><a href=\"/race/ews-round-6/ews-sugarloaf/202191/results/\"><i class=\"icon-right-open\"></i>EWS Sugarloaf</a></li><li><a href=\"/race/ews-round-7/ews-crans-montana/202192/results/\"><i class=\"icon-right-open\"></i>EWS Crans-Montana</a></li><li><a href=\"/race/ews-round-8/ews-loudenvielle/202193/results/\"><i class=\"icon-right-open\"></i>EWS Loudenvielle</a></li><li><a href=\"/races/1/2022/\">2022 results </a></li><li><a href=\"/races/1/2021/\">2021 results </a></li><li><a href=\"/races/1/2020/\">2020 results </a></li><li><a href=\"/races/1/2019/\">2019 results </a></li><li><a href=\"/races/1/2018/\">2018 results </a></li><li><a href=\"/races/1/2017/\">2017 results </a></li><li><a href=\"/races/1/2016/\">2016 results </a></li><li><a href=\"/races/1/2015/\">2015 results </a></li><li><a href=\"/races/1/2014/\">2014 results </a></li><li><a href=\"/races/1/2013/\">2013 results </a></li></ul></li><li class=\"dropdown\"><a class=\"dropdown-toggle\" data-toggle=\"dropdown\" href=\"#\">EWS E-series Results</a><ul class=\"dropdown-menu\"><li><a href=\"/races/6/2022/\">2022 Results</a></li><li><a href=\"/races/6/2021/\">2021 Results</a></li><li><a href=\"/races/6/2020/\">2020 Results</a></li></ul></li><li class=\"dropdown\"><a class=\"dropdown-toggle\" data-toggle=\"dropdown\" href=\"#\">Trophy of Nations</a><ul class=\"dropdown-menu\"><li><a href=\"/races/5/2022/\">2022 Results</a></li><li><a href=\"/races/5/2021/\">2021 Results</a></li><li><a href=\"/races/5/2020/\">2020 Results</a></li><li><a href=\"/races/5/2019/\">2019 Results</a></li></ul></li><li class=\"dropdown\"><a class=\"dropdown-toggle\" data-toggle=\"dropdown\" href=\"#\">Tier 2 Results</a><ul class=\"dropdown-menu\"><li class=\"dropdown\"><a class=\"dropdown-toggle\" data-toggle=\"dropdown\" href=\"/race/tier2/european/\">European</a><ul class=\"dropdown-menu\"><li><a href=\"/race/tier2/european/2020/\">2020</a></li><li><a href=\"/race/tier2/european/2019/\">2019</a></li><li><a href=\"/race/tier2/european/2018/\">2018</a></li></ul></li><li class=\"dropdown\"><a class=\"dropdown-toggle\" data-toggle=\"dropdown\" href=\"/race/tier2/north-american/\">North America</a><ul class=\"dropdown-menu\"><li><a href=\"/race/tier2/north-american/2020/\">2020 </a></li><li><a href=\"/race/tier2/north-american/2019/\">2019 </a></li><li><a href=\"/race/tier2/north-american/2018/\">2018</a></li></ul></li><li class=\"dropdown\"><a class=\"dropdown-toggle\" data-toggle=\"dropdown\" href=\"/race/tier2/south-american/\">South America</a><ul class=\"dropdown-menu\"><li><a href=\"/race/tier2/south-american/2019/\">2019 </a></li></ul></li><li class=\"dropdown\"><a class=\"dropdown-toggle\" data-toggle=\"dropdown\" href=\"/race/tier2/asian-pacific/\">Asia/Pacific</a><ul class=\"dropdown-menu\"><li><a href=\"/race/tier2/asian-pacific/2020/\">2020</a></li><li><a href=\"/race/tier2/asian-pacific/2019/\">2019</a></li><li><a href=\"/race/tier2/asian-pacific/2018/\">2018</a></li></ul></li></ul></li><li class=\"dropdown\"><a class=\"dropdown-toggle\" data-toggle=\"dropdown\" href=\"#\">Qualifier Results</a><ul class=\"dropdown-menu\"><li><a href=\"/race/qualifiers/2022/\">2022 results </a></li><li><a href=\"/race/qualifiers/2021/\">2021 results </a></li><li><a href=\"/race/qualifiers/2020/\">2020 results </a></li><li><a href=\"/race/qualifiers/2019/\">2019 results </a></li><li><a href=\"/race/qualifiers/2018/\">2018 results </a></li></ul></li><li class=\"dropdown\"><a class=\"dropdown-toggle\" data-toggle=\"dropdown\" href=\"#\">Series Rankings</a><ul class=\"dropdown-menu\"><li><a href=\"/rankings/riders/\">World Series</a></li><li><a href=\"/rankings/e-series/\">E-Series</a></li><li><a href=\"/rankings/riders/european/\">European Series</a></li><li><a href=\"/rankings/riders/north-american/\">North American Series</a></li><li><a href=\"/rankings/riders/south-american/\">South American Series</a></li><li><a href=\"/rankings/riders/asian-pacific/\">Asia-Pacific</a></li></ul></li><li class=\"dropdown\"><a class=\"dropdown-toggle\" data-toggle=\"dropdown\" href=\"#\">Team Rankings</a><ul class=\"dropdown-menu\"><li><a href=\"/teams/rankings/\">EWS Team Rankings </a></li><li><a href=\"/teams/e-series/\">EWS-E Team Rankings </a></li></ul></li><li class=\"dropdown\"><a class=\"dropdown-toggle\" data-toggle=\"dropdown\" href=\"#\">Global Rankings</a><ul class=\"dropdown-menu\"><li><a href=\"/rankings/global/\">EWS</a></li></ul></li><li><a href=\"/reserve/2022/\">Reserve List </a></li></ul></li><li><a href=\"https://shop.enduroworldseries.com\" target=\"_blank\">Shop</a></li><li><a href=\"/travel/\">Travel</a></li><li class=\"dropdown mega-menu\"><a class=\"dropdown-toggle\" data-toggle=\"dropdown\" href=\"#\">More</a><ul class=\"dropdown-menu\"><li><div class=\"row\"><div class=\"col-lg-12 col-md-12\"><div class=\"row\"><div class=\"col-sm-3\"><h4>Riders</h4><div class=\"divider\"></div><ul class=\"menu\"><li><a href=\"/ews-entry-overview/how-do-i-enter/\">Information about Entry</a></li><li><a href=\"/ews-events/our-events-overview/\">Information about Events</a></li><li><a href=\"/ews-entry-overview/ews-membership/\">Memberships </a></li><li><a href=\"/ews-entry-overview/reserve-list/\">Reserve List </a></li><li><a class=\"ewslogintbn\" href=\"#\">MY EWS [not logged in] </a></li></ul></div><div class=\"col-sm-3\"><h4>Organisers</h4><div class=\"divider\"></div><ul class=\"menu\"><li><a href=\"/ews-events/how-to-host-an-ews-event/\">Want to host an event?</a></li></ul></div><div class=\"col-sm-3\"><h4>Media</h4><div class=\"divider\"></div><ul class=\"menu\"><li><a class=\"ewslogintbn2\" href=\"https://portal.enduroworldseries.com/user/media-accreditation/\">Media Accreditation</a></li><li><a class=\"undercon\" href=\"https://www.enduroworldseries.com/ews-media/coverage-guidelines/\">Coverage Guidelines</a></li></ul></div><div class=\"col-sm-3\"><h4>Resources</h4><div class=\"divider\"></div><ul class=\"menu\"><li><a href=\"/ews-general/rules-and-resources/\">Rule &amp; Resources</a></li><li><a href=\"/ews-general/enduro-event-grading-system/\">Event Grading System</a></li><li><a href=\"/ews-general/soil-searching-trail-partnership/\">Soil Searching Trail Partnership</a></li><li><a href=\"/ews-general/ews-medical-resources/\">EWS Medical Resources</a></li></ul></div></div></div></div></li></ul></li></ul></div>\n",
       "<!--revised 17-9-2020-->\n",
       "</div>\n",
       "</nav>\n",
       "</div>\n",
       "</div>\n",
       "</div>\n",
       "</div>\n",
       "</div>\n",
       "</header>\n",
       "<div>\n",
       "<!-- page-top start-->\n",
       "<!-- ================ -->\n",
       "<section class=\"main-container\">\n",
       "<div class=\"container\">\n",
       "<div class=\"row\">\n",
       "<div class=\"col-md-12 col-sm-12\">\n",
       "<h2 class=\"ews-heading\">EWS Race Events</h2>\n",
       "<p>Listed below are all the events in the EWS calendar for the current year, please filter your selection using the menus provided</p>\n",
       "<div class=\"clearfix\"></div>\n",
       "</div>\n",
       "<div class=\"row\">\n",
       "<div class=\"col-md-5 col-sm-12 cols-xs-12 col-lg-4 col-xl-4\">\n",
       "<label class=\"col-md-12 col-sm-12\">Select Series</label>\n",
       "<select class=\"form-control table_top_menu_item series\" id=\"series\">\n",
       "<option value=\"\">select race series</option>\n",
       "<option value=\"0\">Show all series race events</option>\n",
       "<option selected=\"\" value=\"1\">EWS World Series</option>\n",
       "<option value=\"12\">EWS 100/80 Events</option>\n",
       "<option value=\"2\">EWS Continental Series</option>\n",
       "<option value=\"3\">EWS Qualifier Rounds</option>\n",
       "<option value=\"6\">EWS E-series</option>\n",
       "<option value=\"18\">EWS E-series E-50/E-100 Events</option>\n",
       "<option value=\"5\">Trophy of Nations</option>\n",
       "</select></div>\n",
       "<div class=\"col-md-5 col-sm-12 cols-xs-12 col-lg-4 col-xl-4\">\n",
       "<label class=\"col-md-12 col-sm-12\">Select Season</label>\n",
       "<select class=\"form-control table_top_menu_item year\" id=\"year\">\n",
       "<option value=\"2023\">2023</option><option selected=\"selected\" value=\"2022\">2022</option><option value=\"2021\">2021</option><option value=\"2020\">2020</option><option value=\"2019\">2019</option><option value=\"2018\">2018</option><option value=\"2017\">2017</option><option value=\"2016\">2016</option><option value=\"2015\">2015</option><option value=\"2014\">2014</option><option value=\"2013\">2013</option> </select>\n",
       "</div>\n",
       "<div class=\"col-md-2 col-sm-12 cols-xs-12 col-lg-2 col-xl-2\">\n",
       "<label class=\"col-md-12 col-sm-12 cols-xs-12\"> <br/></label>\n",
       "<a class=\"btn btn-md btn-primary listingfilter\" href=\"javascript://\" style=\"margin-top: -1px\"><i aria-hidden=\"true\" class=\"fa fa-filter\"></i> filter results</a>\n",
       "</div>\n",
       "</div>\n",
       "<div class=\"hidden-xs col-md-12 col-lg-12 col-sm-12\"><br/><br/></div>\n",
       "<div class=\"addthis_inline_share_toolbox pull-right\"></div>\n",
       "<table class=\"display nowrap rider_results\" id=\"rider_results\" style=\"width:100%\">\n",
       "<thead>\n",
       "<tr><th data-priority=\"2\">Race</th><th data-priority=\"1\"></th><th></th><th data-priority=\"3\">Date</th><th data-priority=\"6\">Location</th><th data-priority=\"5\">Series</th><th data-priority=\"4\"></th></tr>\n",
       "</thead>\n",
       "<tbody>\n",
       "<tr>\n",
       "<td><img src=\"https://admin.enduroworldseries.com/uploads/flags/cl.png\" width=\"30\"/></td>\n",
       "<td></td>\n",
       "<!--<td><a href=\"/race/trophy-of-nations/\">Montenbaik Enduro World Series</a></td>-->\n",
       "<td><a href=\"/race/ews-round-1/MontenbaikEnduroWorldSeries/201601/\">Montenbaik Enduro World Series</a></td>\n",
       "<td>26 March 2016</td>\n",
       "<td>Corral, CHI</td>\n",
       "<td>\n",
       "<a class=\"btn btn-sm btn-primary\" href=\"/race/ews-round-1/MontenbaikEnduroWorldSeries/201601/results/\">results</a>\n",
       "</td>\n",
       "<td></td>\n",
       "</tr>\n",
       "<tr>\n",
       "<td><img src=\"https://admin.enduroworldseries.com/uploads/flags/ar.png\" width=\"30\"/></td>\n",
       "<td></td>\n",
       "<!--<td><a href=\"/race/trophy-of-nations/\">Cerro Catedral Montenbaik Enduro World Series presented by Shimano</a></td>-->\n",
       "<td><a href=\"/race/ews-round-2/CerroCatedralMontenbaikEnduroWorldSeriespresentedbyShimano/201602/\">Cerro Catedral Montenbaik Enduro World Series presented by Shimano</a></td>\n",
       "<td>2 April 2016</td>\n",
       "<td>Cerro Catedral, Bariloche, ARG</td>\n",
       "<td>\n",
       "<a class=\"btn btn-sm btn-primary\" href=\"/race/ews-round-2/CerroCatedralMontenbaikEnduroWorldSeriespresentedbyShimano/201602/results/\">results</a>\n",
       "</td>\n",
       "<td></td>\n",
       "</tr>\n",
       "<tr>\n",
       "<td><img src=\"https://admin.enduroworldseries.com/uploads/flags/ie.png\" width=\"30\"/></td>\n",
       "<td></td>\n",
       "<!--<td><a href=\"/race/trophy-of-nations/\">Emerald Enduro presented by biking.ie</a></td>-->\n",
       "<td><a href=\"/race/ews-round-3/EmeraldEnduropresentedbybikingie/201603/\">Emerald Enduro presented by biking.ie</a></td>\n",
       "<td>15 May 2016</td>\n",
       "<td>Wicklow, IRL</td>\n",
       "<td>\n",
       "<a class=\"btn btn-sm btn-primary\" href=\"/race/ews-round-3/EmeraldEnduropresentedbybikingie/201603/results/\">results</a>\n",
       "</td>\n",
       "<td></td>\n",
       "</tr>\n",
       "<tr>\n",
       "<td><img src=\"https://admin.enduroworldseries.com/uploads/flags/it.png\" width=\"30\"/></td>\n",
       "<td></td>\n",
       "<!--<td><a href=\"/race/trophy-of-nations/\">La Thuile</a></td>-->\n",
       "<td><a href=\"/race/ews-round-4/LaThuile/201604/\">La Thuile</a></td>\n",
       "<td>16 July 2016</td>\n",
       "<td>La Thuile, ITA</td>\n",
       "<td>\n",
       "<a class=\"btn btn-sm btn-primary\" href=\"/race/ews-round-4/LaThuile/201604/results/\">results</a>\n",
       "</td>\n",
       "<td></td>\n",
       "</tr>\n",
       "<tr>\n",
       "<td><img src=\"https://admin.enduroworldseries.com/uploads/flags/us.png\" width=\"30\"/></td>\n",
       "<td></td>\n",
       "<!--<td><a href=\"/race/trophy-of-nations/\">Yeti Cycles Big Mountain Enduro presented by Shimano</a></td>-->\n",
       "<td><a href=\"/race/ews-round-5/YetiCyclesBigMountainEnduropresentedbyShimano/201605/\">Yeti Cycles Big Mountain Enduro presented by Shimano</a></td>\n",
       "<td>30 July 2016</td>\n",
       "<td>Aspen Snowmass, USA</td>\n",
       "<td>\n",
       "<a class=\"btn btn-sm btn-primary\" href=\"/race/ews-round-5/YetiCyclesBigMountainEnduropresentedbyShimano/201605/results/\">results</a>\n",
       "</td>\n",
       "<td></td>\n",
       "</tr>\n",
       "<tr>\n",
       "<td><img src=\"https://admin.enduroworldseries.com/uploads/flags/ca.png\" width=\"30\"/></td>\n",
       "<td></td>\n",
       "<!--<td><a href=\"/race/trophy-of-nations/\">SRAM Canadian Open Enduro presented by Specialized</a></td>-->\n",
       "<td><a href=\"/race/ews-round-6/SRAMCanadianOpenEnduropresentedbySpecialized/201606/\">SRAM Canadian Open Enduro presented by Specialized</a></td>\n",
       "<td>14 August 2016</td>\n",
       "<td>Whistler, CAN</td>\n",
       "<td>\n",
       "<a class=\"btn btn-sm btn-primary\" href=\"/race/ews-round-6/SRAMCanadianOpenEnduropresentedbySpecialized/201606/results/\">results</a>\n",
       "</td>\n",
       "<td></td>\n",
       "</tr>\n",
       "<tr>\n",
       "<td><img src=\"https://admin.enduroworldseries.com/uploads/flags/fr.png\" width=\"30\"/></td>\n",
       "<td></td>\n",
       "<!--<td><a href=\"/race/trophy-of-nations/\">Enduro des Portes du Mercantour driven by Urge Bike Products</a></td>-->\n",
       "<td><a href=\"/race/ews-round-7/EndurodesPortesduMercantourdrivenbyUrgeBikeProducts/201607/\">Enduro des Portes du Mercantour driven by Urge Bike Products</a></td>\n",
       "<td>17 September 2016</td>\n",
       "<td>Valberg-Guillaumes, FRA</td>\n",
       "<td>\n",
       "<a class=\"btn btn-sm btn-primary\" href=\"/race/ews-round-7/EndurodesPortesduMercantourdrivenbyUrgeBikeProducts/201607/results/\">results</a>\n",
       "</td>\n",
       "<td></td>\n",
       "</tr>\n",
       "<tr>\n",
       "<td><img src=\"https://admin.enduroworldseries.com/uploads/flags/it.png\" width=\"30\"/></td>\n",
       "<td></td>\n",
       "<!--<td><a href=\"/race/trophy-of-nations/\">Bluegrass Finale Enduro powered by SRAM</a></td>-->\n",
       "<td><a href=\"/race/ews-round-8/BluegrassFinaleEnduropoweredbySRAM/201608/\">Bluegrass Finale Enduro powered by SRAM</a></td>\n",
       "<td>1 October 2016</td>\n",
       "<td>Finale Ligure, ITA</td>\n",
       "<td>\n",
       "<a class=\"btn btn-sm btn-primary\" href=\"/race/ews-round-8/BluegrassFinaleEnduropoweredbySRAM/201608/results/\">results</a>\n",
       "</td>\n",
       "<td></td>\n",
       "</tr>\n",
       "</tbody></table>\n",
       "<img src=\"/images/racelabslogo-horiz-small.jpg?t=1660044280\"/>\n",
       "</div>\n",
       "</div>\n",
       "</section></div> <!-- /container -->\n",
       "\n",
       "<div class=\"clearfix\"></div>\n",
       "<footer id=\"footer\">\n",
       "<div class=\"footer\">\n",
       "<div class=\"container\">\n",
       "<div class=\"row\">\n",
       "<div class=\"col-md-12\">\n",
       "<img class=\"img-responsive\" height=\"5\" src=\"https://admin.enduroworldseries.com/uploads/2021-EWS-Colour-Gradient-Bar.png\"/>\n",
       "</div>\n",
       "</div>\n",
       "</div>\n",
       "<!--partner top 2 x 6-->\n",
       "<div class=\"container mt-3\">\n",
       "<div class=\"row\">\n",
       "<div class=\"col-md-12 text-center\">\n",
       "<h3>Major Partners</h3>\n",
       "</div>\n",
       "</div>\n",
       "<div class=\"row\">\n",
       "<div class=\"col-md-5 col-lg-4 col-xl-4 col-sm-6 col-xs-8 col-sm-offset-3 col-xs-offset-2 col-lg-offset-2\">\n",
       "<a class=\"partner_link float-right\" href=\"https://www.shimano.com\" target=\"_blank\">\n",
       "<img class=\"img-responsive\" src=\"https://admin.enduroworldseries.com/uploads/logos/Shimano-footer.png\"/>\n",
       "</a>\n",
       "</div>\n",
       "<div class=\"col-md-5 col-lg-4 col-xl-4 col-sm-6 col-xs-8 col-xs-offset-2 col-sm-offset-3 col-md-offset-1 col-lg-offset-1\">\n",
       "<a class=\"partner_link float-right\" href=\"https://www.gmbn.com/\" target=\"_blank\">\n",
       "<img class=\"img-responsive\" src=\"https://admin.enduroworldseries.com/uploads/logos/GMBN-footer.png?1660044280\"/>\n",
       "</a>\n",
       "</div>\n",
       "</div>\n",
       "</div>\n",
       "<div class=\"row\">\n",
       "<div class=\"col-md-12 text-center\">\n",
       "<h3>Partners</h3>\n",
       "</div>\n",
       "</div>\n",
       "<div class=\"container mt-3\">\n",
       "<div class=\"row\">\n",
       "<div class=\"col-md-1 col-lg-1 col-xl-1 col-sm-2 col-xs-3 col-lg-offset-1\">\n",
       "<a class=\"partner_link\" href=\"https://www.uci.org/\" target=\"_blank\">\n",
       "<img class=\"img-responsive\" src=\"https://admin.enduroworldseries.com/uploads/logos/partner_uci.png\"/>\n",
       "</a>\n",
       "</div>\n",
       "<div class=\"col-md-1 col-lg-1 col-xl-1 col-sm-2 col-xs-3\">\n",
       "<a class=\"partner_link\" href=\"https://prologo.it/en/\" target=\"_blank\">\n",
       "<img class=\"img-responsive\" src=\"https://admin.enduroworldseries.com/uploads/proxim.png\" style=\"margin-top:15px\"/>\n",
       "</a>\n",
       "</div>\n",
       "<div class=\"col-md-1 col-lg-1 col-xl-1 col-sm-2 col-xs-3\">\n",
       "<a class=\"partner_link\" href=\"https://www.vittoria.com/us/en/\" target=\"_blank\">\n",
       "<img class=\"img-responsive\" src=\"https://admin.enduroworldseries.com/uploads/logos/Vittoria-Footer.png\" style=\"margin-top:15px\"/>\n",
       "</a>\n",
       "</div>\n",
       "<!-- <div class=\"col-md-1 col-lg-1 col-xl-1 col-sm-2 col-xs-3\">\n",
       "\t\t\t\t\t\t\t<a href=\"https://www.shiptocycle.com\" target=\"_blank\" class=\"partner_link\">\n",
       "\t\t\t\t\t\t\t\t<img src=\"https://admin.enduroworldseries.com/uploads/logos/Ship2Cycle-Footer.png\" class=\"img-responsive \">\n",
       "\t\t\t\t\t\t\t</div>\n",
       "\t\t\t\t\t\t\t</a>\n",
       "\t\t\t\t\t\t\t<div class=\"col-md-1 col-lg-1 col-xl-1 col-sm-2 col-xs-3\">\n",
       "\t\t\t\t\t\t\t<a href=\"https://www.sel.it\" target=\"_blank\" class=\"partner_link\">\n",
       "\t\t\t\t\t\t\t\t<img src=\"https://admin.enduroworldseries.com/uploads/logos/partner_sel.png\" class=\"img-responsive \">\n",
       "\t\t\t\t\t\t\t</a>\n",
       "\t\t\t\t\t\t\t</div> -->\n",
       "<div class=\"col-md-1 col-lg-1 col-xl-1 col-sm-2 col-xs-3\">\n",
       "<a class=\"partner_link\" href=\"https://www.giro.com\" target=\"_blank\">\n",
       "<img class=\"img-responsive\" src=\"https://admin.enduroworldseries.com/uploads/logos/partner_giro.png\"/>\n",
       "</a>\n",
       "</div>\n",
       "<div class=\"col-md-1 col-lg-1 col-xl-1 col-sm-2 col-xs-3\">\n",
       "<a class=\"partner_link\" href=\"https://www.liv-cycling.com/gb\" target=\"_blank\">\n",
       "<img class=\"img-responsive\" src=\"https://admin.enduroworldseries.com/uploads/logos/partner_liv.png\"/>\n",
       "</a>\n",
       "</div>\n",
       "<div class=\"col-md-1 col-lg-1 col-xl-1 col-sm-2 col-xs-3\">\n",
       "<a class=\"partner_link\" href=\"https://www.dainese.com/gb/en/store/dainese-store-london.html\" target=\"_blank\">\n",
       "<img class=\"img-responsive\" src=\"https://admin.enduroworldseries.com/uploads/logos/dianese_footer.png?1660044280\"/>\n",
       "</a></div>\n",
       "\n",
       "<div class=\"col-md-1 col-lg-1 col-xl-1 col-sm-2 col-xs-3\">\n",
       "<a class=\"partner_link\" href=\"https://www.santacruzbicycles.com/en-US\" target=\"_blank\">\n",
       "<img class=\"img-responsive\" src=\"https://admin.enduroworldseries.com/uploads/logos/partner_santacruz.png\"/>\n",
       "</a></div>\n",
       "\n",
       "<div class=\"col-md-1 col-lg-1 col-xl-1 col-sm-2 col-xs-3\">\n",
       "<a class=\"partner_link\" href=\"https://www.smithoptics.com/\" target=\"_blank\">\n",
       "<img class=\"img-responsive\" src=\"https://admin.enduroworldseries.com/uploads/logos/partner_smith.png\"/>\n",
       "</a>\n",
       "</div>\n",
       "<div class=\"col-md-1 col-lg-1 col-xl-1 col-sm-2 col-xs-3 col-xs-offset-4 col-sm-offset-0\">\n",
       "<a class=\"partner_link\" href=\"https://www.sportident.com/\" target=\"_blank\">\n",
       "<img class=\"img-responsive\" src=\"https://admin.enduroworldseries.com/uploads/logos/partner_sportident.png\"/>\n",
       "</a>\n",
       "</div>\n",
       "</div>\n",
       "</div>\n",
       "<div class=\"container\">\n",
       "<div class=\"row\">\n",
       "<div class=\"col-md-12\">\n",
       "<div class=\"footer-content\">\n",
       "<div class=\"row\">\n",
       "<div class=\"col-sm-12 col-md-12 text-center\">\n",
       "<div class=\"footer-content\">\n",
       "<h2><img alt=\"Enduro World Series Logo\" src=\"https://admin.enduroworldseries.com/uploads/logos/ews_logo_footer_stacked.png\" style=\"margin:0px auto; text-align: center\"/> </h2>\n",
       "<nav>\n",
       "<ul class=\"nav nav-pills nav-stacked\">\n",
       "<li>Enduro Sports Organisation Ltd. Registered Office: 60 High Street, Innerleithen, Scotland, UK, EH44 6HF</li>\n",
       "</ul>\n",
       "</nav>\n",
       "<div class=\"col-9 text-center\">\n",
       "<a href=\"/\">Home | </a>\n",
       "<a href=\"/ews-media/coverage-guidelines/\">Coverage Guidelines | </a>\n",
       "<a href=\"https://shop.enduroworldseries.com\">EWS Shop | </a>\n",
       "<a href=\"/ews-general/hall-of-fame/\">Hall of Fame  | </a>\n",
       "<a href=\"/cdn-cgi/l/email-protection#d8b0bdb4b4b798bdb6bcadaab7afb7aab4bcabbdaab1bdabf6bbb7b5\">Contact EWS | </a>\n",
       "<a href=\"/privacy-policy/\">Privacy Policy</a>\n",
       "</div>\n",
       "</div>\n",
       "</div>\n",
       "</div>\n",
       "</div>\n",
       "</div>\n",
       "</div>\n",
       "<div class=\"space-bottom hidden-lg hidden-xs\"></div>\n",
       "</div>\n",
       "</div>\n",
       "<div class=\"subfooter\">\n",
       "<div class=\"container\">\n",
       "<div class=\"row\">\n",
       "<div class=\"col-md-6\">\n",
       "<p>Copyright © 2022 Enduro Sports Organisation Ltd. All Rights Reserved</p>\n",
       "</div>\n",
       "<div class=\"col-md-6\">\n",
       "<nav class=\"navbar navbar-default\" role=\"navigation\">\n",
       "<div class=\"navbar-header\">\n",
       "<button class=\"navbar-toggle\" data-target=\"#navbar-collapse-2\" data-toggle=\"collapse\" type=\"button\">\n",
       "<span class=\"sr-only\">Toggle navigation</span>\n",
       "<span class=\"icon-bar\"></span>\n",
       "<span class=\"icon-bar\"></span>\n",
       "<span class=\"icon-bar\"></span>\n",
       "</button>\n",
       "</div>\n",
       "<div class=\"collapse navbar-collapse\" id=\"navbar-collapse-2\">\n",
       "<ul class=\"nav navbar-nav\">\n",
       "<li><a data-html=\"true\" data-toggle=\"tooltip\" href=\"https://www.veloeye.com\" target=\"_blank\" title=\"&lt;strong&gt;Veloeye Data Systems&lt;/strong&gt; EWS web and racelabs system development by Veloeye Data Systems\">Website development</a></li>\n",
       "</ul>\n",
       "</div>\n",
       "</nav>\n",
       "</div>\n",
       "</div>\n",
       "</div>\n",
       "</div>\n",
       "</footer>\n",
       "<div aria-hidden=\"true\" aria-labelledby=\"myModalLabel\" class=\"modal fade in\" id=\"ewsnologmodal\" role=\"dialog\" tabindex=\"-1\">\n",
       "<div class=\"modal-dialog\">\n",
       "<div class=\"modal-content\">\n",
       "<div class=\"modal-header\">\n",
       "<button class=\"close\" data-dismiss=\"modal\" type=\"button\"><span aria-hidden=\"true\">×</span><span class=\"sr-only\">Close</span></button>\n",
       "<h4 class=\"modal-title\" id=\"myModalLabel\">Log in first</h4>\n",
       "</div>\n",
       "<div class=\"modal-body\">\n",
       "<p> You must be logged in before you can follow riders or teams</p>\n",
       "<p class=\"text-center\"><button class=\"btn btn-sm btn-primary closeopnlog\">Click here to log in and start following riders</button></p>\n",
       "</div>\n",
       "</div>\n",
       "</div>\n",
       "</div>\n",
       "<div aria-hidden=\"true\" aria-labelledby=\"myModalLabel\" class=\"modal fade in\" id=\"riderbiomodal\" role=\"dialog\" tabindex=\"-1\">\n",
       "<div class=\"modal-dialog\">\n",
       "<div class=\"modal-content\">\n",
       "<div class=\"modal-header\">\n",
       "<button class=\"close\" data-dismiss=\"modal\" type=\"button\"><span aria-hidden=\"true\">×</span><span class=\"sr-only\">Close</span></button>\n",
       "<h4 class=\"modal-title ridername\" id=\"ridername\">Log in first</h4>\n",
       "</div>\n",
       "<div class=\"modal-body ridermodbody\">\n",
       "</div>\n",
       "</div>\n",
       "</div>\n",
       "</div>\n",
       "<div aria-hidden=\"true\" aria-labelledby=\"myModalLabel\" class=\"modal fade in\" id=\"stage_modal_window\" role=\"dialog\" tabindex=\"-1\">\n",
       "<div class=\"modal-dialog\">\n",
       "<div class=\"modal-content\">\n",
       "<div class=\"modal-header\">\n",
       "<button class=\"close\" data-dismiss=\"modal\" type=\"button\"><span aria-hidden=\"true\">×</span><span class=\"sr-only\">Close</span></button>\n",
       "<h4 class=\"modal-title\" id=\"myModalLabel\">Race Stages</h4>\n",
       "</div>\n",
       "<div class=\"modal-body\">\n",
       "<h5> Race Stages for <span class=\"rider_modal_name\"></span></h5>\n",
       "<div class=\"stage_modal_body\"><p>Please wait content loading...</p></div>\n",
       "</div>\n",
       "<div class=\"modal-footer\">\n",
       "<button class=\"btn btn-sm btn-dark\" data-dismiss=\"modal\" type=\"button\">Close</button>\n",
       "</div>\n",
       "</div>\n",
       "</div>\n",
       "</div>\n",
       "<div aria-hidden=\"true\" aria-labelledby=\"myModalLabel\" class=\"modal fade in\" id=\"round_modal_window\" role=\"dialog\" tabindex=\"-1\">\n",
       "<div class=\"modal-dialog\">\n",
       "<div class=\"modal-content\">\n",
       "<div class=\"modal-header\">\n",
       "<button class=\"close\" data-dismiss=\"modal\" type=\"button\"><span aria-hidden=\"true\">×</span><span class=\"sr-only\">Close</span></button>\n",
       "<h4 class=\"modal-title\" id=\"myModalLabel\">Rounds</h4>\n",
       "</div>\n",
       "<div class=\"modal-body\">\n",
       "<h5> Rounds for <span class=\"rider_modal_name\"></span></h5>\n",
       "<div class=\"stage_modal_body\"><p>Please wait content loading...</p></div>\n",
       "</div>\n",
       "<div class=\"modal-footer\">\n",
       "<button class=\"btn btn-sm btn-dark\" data-dismiss=\"modal\" type=\"button\">Close</button>\n",
       "</div>\n",
       "</div>\n",
       "</div>\n",
       "</div>\n",
       "<script language=\"javascript\" src=\"https://code.jquery.com/jquery-3.3.1.js\" type=\"text/javascript\"></script>\n",
       "<script src=\"https://getbootstrap.com/docs/4.1/assets/js/vendor/popper.min.js\"></script>\n",
       "<script src=\"/bootstrap/js/bootstrap.js\"></script>\n",
       "<script src=\"/plugins/modernizr.js\"></script>\n",
       "<link href=\"https://cdnjs.cloudflare.com/ajax/libs/toastr.js/latest/css/toastr.min.css\" rel=\"stylesheet\"><script src=\"https://cdnjs.cloudflare.com/ajax/libs/toastr.js/latest/toastr.min.js\"></script>\n",
       "<script src=\"/plugins/rs-plugin-5/js/jquery.themepunch.tools.min.js\"></script>\n",
       "<script src=\"/plugins/rs-plugin-5/js/jquery.themepunch.revolution.min.js\"></script>\n",
       "<script src=\"/plugins/isotope/imagesloaded.pkgd.min.js\"></script>\n",
       "<script src=\"/plugins/isotope/isotope.pkgd.min.js\"></script>\n",
       "<script src=\"/plugins/owl-carousel/owl.carousel.js\"></script>\n",
       "<script src=\"/plugins/magnific-popup/jquery.magnific-popup.min.js\"></script>\n",
       "<script src=\"/plugins/jquery.appear.js\"></script>\n",
       "<script src=\"/plugins/jquery.countTo.js\"></script>\n",
       "<script src=\"/js/ews.js?t=1660044280\"></script>\n",
       "<script src=\"/js/template.js\"></script>\n",
       "<link href=\"/js/iCookie.css?t=1660044280\" rel=\"stylesheet\">\n",
       "<script src=\"/js/iCookie.js\"></script>\n",
       "<script src=\"https://cdn.jsdelivr.net/npm/js-cookie@2/src/js.cookie.min.js\"></script>\n",
       "<script src=\"https://s7.addthis.com/js/300/addthis_widget.js#pubid=ra-5c5082846f8b85ad\"></script>\n",
       "<!-- Global site tag (gtag.js) - Google Analytics -->\n",
       "<script async=\"\" src=\"https://www.googletagmanager.com/gtag/js?id=UA-36523957-1\"></script>\n",
       "<script>\n",
       "  window.dataLayer = window.dataLayer || [];\n",
       "  function gtag(){dataLayer.push(arguments);}\n",
       "  gtag('js', new Date());\n",
       "\n",
       "  gtag('config', 'UA-36523957-1');\n",
       "</script>\n",
       "<script type=\"text/javascript\">\n",
       "$(function(){\n",
       "\tvar options={\n",
       "\t\ttheme:\"red\",\n",
       "\t\tposition:\"bottom-right\",\n",
       "\t\tdistance:20,\n",
       "\t\tborderRadius:4,\n",
       "\t\tbackground:\"#0a0707\",\n",
       "\t\tbackgroundOpacity:\"0.9\",\n",
       "\t\tfontSize:14,\n",
       "\t\ttext:\"We use cookies to improve your online experience. If you continue on this website, you will be providing your consent to our use of cookies.\",\n",
       "\t\thtml:false,\n",
       "\t\ttextColor:\"#f2f2f2\",\n",
       "\t\tshowButton:true,\n",
       "\t\tbuttonText:\"I ACCEPT\",\n",
       "\t\tbuttonColor:\"#ffffff\",\n",
       "\t\tbuttonBgColor:\"#21bd42\",\n",
       "\t\tmoreButtonText:\"Read our cookie policy\",\n",
       "\t\tmoreButtonColor:\"#f6f6f6\",\n",
       "\t\tmoreButtonLink:\"/cookie-policy/\",\n",
       "\t\tshowCloseButton:false,\n",
       "\t\tcookieDays:365}\n",
       "\t$(\"body\").iCookie(options);});\n",
       "</script><div aria-hidden=\"true\" aria-labelledby=\"myModalLabel\" class=\"modal fade in\" id=\"stage_modal_window\" role=\"dialog\" tabindex=\"-1\">\n",
       "<div class=\"modal-dialog\">\n",
       "<div class=\"modal-content\">\n",
       "<div class=\"modal-header\">\n",
       "<button class=\"close\" data-dismiss=\"modal\" type=\"button\"><span aria-hidden=\"true\">×</span><span class=\"sr-only\">Close</span></button>\n",
       "<h4 class=\"modal-title\" id=\"myModalLabel\">Race Stages</h4>\n",
       "</div>\n",
       "<div class=\"modal-body\">\n",
       "<h5> Race Stages for <span class=\"rider_modal_name\"></span></h5>\n",
       "<div class=\"stage_modal_body\"><p>Please wait content loading...</p></div>\n",
       "</div>\n",
       "<div class=\"modal-footer\">\n",
       "<button class=\"btn btn-sm btn-dark\" data-dismiss=\"modal\" type=\"button\">Close</button>\n",
       "</div>\n",
       "</div>\n",
       "</div>\n",
       "</div>\n",
       "\n",
       "<!-- Custom Scripts -->\n",
       "<script src=\"/js/custom-index.js\"></script>\n",
       "<script src=\"https://cdn.datatables.net/1.10.19/js/jquery.dataTables.min.js\"></script>\n",
       "<script src=\"https://cdn.datatables.net/responsive/2.2.3/js/dataTables.responsive.min.js\"></script>\n",
       "<script>\n",
       "\n",
       "\n",
       "\t$(document).ready(function () {\n",
       "    var table = $('#rider_results').DataTable({\n",
       "\t\t\tresponsive: true,\n",
       "\t\t\t\"paging\":   true,\n",
       "\t\t\t\"ordering\": false,\n",
       "\t\t\t\"info\":     false,\n",
       "\t\t\t\"searching\": false\n",
       "\t\t\t//\"dom\": '<\"toolbar\">frtip'\n",
       "\t\t\n",
       "\t});\n",
       "\n",
       "\t$(table).on( 'draw.dt', function () {\n",
       "\t\t// Hacky interim solution for changing Petzen flag\n",
       "\t\t$(\".dataTable tbody td a[href*='Petzen']\").parent().parent().find(\"td:nth-child(1) img\").attr(\"src\",\"https://admin.enduroworldseries.com/uploads/flags/si_petzen.png\");\n",
       "\t});\n",
       "\n",
       "\t//$(\"div.toolbar\").html('<div class=\"col-md-3 col-sm-6 cols-xs-12 col-lg-3\"><select class=\"form-control table_top_menu_item\"><option>select rider category</option><option value=\"1\">Pro Men</option><option value=\"3\">Pro Women</option><option value=\"5\">Men U21</option><option value=\"6\">Women U21</option><option value=\"2\">Men Masters</option><option value=\"4\">Women Masters</option></select></div>');\t\n",
       "\t\t\n",
       "\t$('.listingfilter').on('click', function(){\n",
       "\t\tvar listyear = $('#year option:selected').val();\n",
       "\t\tvar listseries = $('#series option:selected').val();\n",
       "\t\tif(listyear!='' && listseries !='') {\n",
       "\t\ttoastr.options.positionClass =\"toast-bottom-right\",\n",
       "\t\ttoastr.options.timeOut =2500,\n",
       "\t\ttoastr.info('Please wait a moment','Loading data');\n",
       "\t\twindow.location = '/races/'+listseries+'/'+listyear+'/';\n",
       "\t\t} else {\n",
       "\t\ttoastr.options.positionClass =\"toast-bottom-right\",\n",
       "\t\ttoastr.options.timeOut =2500,\n",
       "\t\ttoastr.warning('Please select from both fields','Select values');\t\n",
       "\t\t}\n",
       "\t})\n",
       "\n",
       "\n",
       "  \n",
       "$('#rider_results').on('click','.stage_modal', function(){\n",
       "var rider = $(this).attr('rel');\n",
       "var race = $(this).attr('race');\n",
       "var ridername = $(this).attr('rname');\n",
       "$('#stage_modal_window').modal('show');\n",
       "$('.rider_modal_name').empty().html(ridername)\n",
       "    $.ajax({\n",
       "    type:'POST',\n",
       "    url: '/includes/_get_stages.php',\n",
       "    data: 'rd='+rider+'&rc='+race,\n",
       "    success: function(response){\n",
       "\t\t$('.stage_modal_body').empty().html(response);\n",
       "        $('#stage_modal_window').modal('show');     \n",
       "    }\n",
       "});\n",
       "   \n",
       "});\n",
       "\n",
       "});\n",
       "\t\t\t\n",
       "\t\t\t\t\n",
       "\t\t</script>\n",
       "</link></link></body>\n",
       "</html>"
      ]
     },
     "execution_count": 5,
     "metadata": {},
     "output_type": "execute_result"
    }
   ],
   "source": [
    "ews_soup"
   ]
  },
  {
   "cell_type": "code",
   "execution_count": 6,
   "metadata": {},
   "outputs": [],
   "source": [
    "# for link in ews_soup.find_all('a'):\n",
    "# \turl = link.get('href')\n",
    "# \t# print(link.get('href'))\n",
    "# \tif 'race' in url:\n",
    "# \t\tprint(url)\n",
    "links = ews_soup.find_all('a', href=True)\n",
    "links = [link.get('href') for link in links]\n",
    "\n",
    "race_list_URL = [test_url[:-14]+str(link) for link in links if 'results' in link]"
   ]
  },
  {
   "cell_type": "code",
   "execution_count": 116,
   "metadata": {},
   "outputs": [
    {
     "data": {
      "text/plain": [
       "['https://www.enduroworldseries.com/race/ews-round-1/ews-tweed-valley/202186/results/',\n",
       " 'https://www.enduroworldseries.com/race/ews-round-2/ews-petzen-jamnica/202187/results/',\n",
       " 'https://www.enduroworldseries.com/race/ews-round-3/ews-val-di-fassa-trentino/202188/results/',\n",
       " 'https://www.enduroworldseries.com/race/ews-round-4/ews-whistler/202189/results/',\n",
       " 'https://www.enduroworldseries.com/race/ews-round-5/ews-burke/202190/results/',\n",
       " 'https://www.enduroworldseries.com/race/ews-round-6/ews-sugarloaf/202191/results/',\n",
       " 'https://www.enduroworldseries.com/race/ews-round-7/ews-crans-montana/202192/results/',\n",
       " 'https://www.enduroworldseries.com/race/ews-round-8/ews-loudenvielle/202193/results/',\n",
       " 'https://www.enduroworldseries.com/race/ews-round-1/MontenbaikEnduroWorldSeries/201601/results/',\n",
       " 'https://www.enduroworldseries.com/race/ews-round-2/CerroCatedralMontenbaikEnduroWorldSeriespresentedbyShimano/201602/results/',\n",
       " 'https://www.enduroworldseries.com/race/ews-round-3/EmeraldEnduropresentedbybikingie/201603/results/',\n",
       " 'https://www.enduroworldseries.com/race/ews-round-4/LaThuile/201604/results/',\n",
       " 'https://www.enduroworldseries.com/race/ews-round-5/YetiCyclesBigMountainEnduropresentedbyShimano/201605/results/',\n",
       " 'https://www.enduroworldseries.com/race/ews-round-6/SRAMCanadianOpenEnduropresentedbySpecialized/201606/results/',\n",
       " 'https://www.enduroworldseries.com/race/ews-round-7/EndurodesPortesduMercantourdrivenbyUrgeBikeProducts/201607/results/',\n",
       " 'https://www.enduroworldseries.com/race/ews-round-8/BluegrassFinaleEnduropoweredbySRAM/201608/results/']"
      ]
     },
     "execution_count": 116,
     "metadata": {},
     "output_type": "execute_result"
    }
   ],
   "source": [
    "race_list_URL"
   ]
  },
  {
   "cell_type": "code",
   "execution_count": 115,
   "metadata": {},
   "outputs": [
    {
     "name": "stdout",
     "output_type": "stream",
     "text": [
      "16\n"
     ]
    }
   ],
   "source": []
  },
  {
   "cell_type": "code",
   "execution_count": 7,
   "metadata": {},
   "outputs": [],
   "source": [
    "test_race = download_page(race_list_URL[0])"
   ]
  },
  {
   "cell_type": "code",
   "execution_count": 8,
   "metadata": {},
   "outputs": [],
   "source": [
    "test_pdf = test_race.find_all('a', href=True)\n",
    "test_pdf = [(link.get('href'), link) for link in test_pdf]\n",
    "test_pdf = [(pdf, pdf_link.get_text()) for pdf, pdf_link in test_pdf if '.pdf' in pdf]"
   ]
  },
  {
   "cell_type": "code",
   "execution_count": 9,
   "metadata": {},
   "outputs": [
    {
     "data": {
      "text/plain": [
       "[('https://admin.enduroworldseries.com/uploads/documents/races/1654354218.pdf',\n",
       "  'Results Pro Stage'),\n",
       " ('https://admin.enduroworldseries.com/uploads/documents/races/1654368581.pdf',\n",
       "  'Results EWS100'),\n",
       " ('https://admin.enduroworldseries.com/uploads/documents/races/1654368628.pdf',\n",
       "  'Results EWS80'),\n",
       " ('https://admin.enduroworldseries.com/uploads/documents/races/1654469829.pdf',\n",
       "  'Results EWS'),\n",
       " ('https://admin.enduroworldseries.com/uploads/documents/races/1654469868.pdf',\n",
       "  'Rankings Series'),\n",
       " ('https://admin.enduroworldseries.com/uploads/documents/races/1654469962.pdf',\n",
       "  'Rankings Teams'),\n",
       " ('https://admin.enduroworldseries.com/uploads/documents/races/1654535565.pdf',\n",
       "  'Split S1'),\n",
       " ('https://admin.enduroworldseries.com/uploads/documents/races/1654535596.pdf',\n",
       "  'Split S3'),\n",
       " ('https://admin.enduroworldseries.com/uploads/documents/races/1654535624.pdf',\n",
       "  'Split S5'),\n",
       " ('https://admin.enduroworldseries.com/uploads/documents/races/1654535653.pdf',\n",
       "  'Split S6')]"
      ]
     },
     "execution_count": 9,
     "metadata": {},
     "output_type": "execute_result"
    }
   ],
   "source": [
    "test_pdf"
   ]
  },
  {
   "cell_type": "code",
   "execution_count": 117,
   "metadata": {},
   "outputs": [
    {
     "data": {
      "text/plain": [
       "['https:',\n",
       " '',\n",
       " 'www.enduroworldseries.com',\n",
       " 'race',\n",
       " 'ews-round-1',\n",
       " 'ews-tweed-valley',\n",
       " '202186',\n",
       " 'results',\n",
       " '']"
      ]
     },
     "execution_count": 117,
     "metadata": {},
     "output_type": "execute_result"
    }
   ],
   "source": [
    "race_list_URL[0].split('/')"
   ]
  },
  {
   "cell_type": "code",
   "execution_count": 37,
   "metadata": {},
   "outputs": [],
   "source": [
    "req = requests.get('https://admin.enduroworldseries.com/uploads/documents/races/1584572245.pdf')\n",
    "req.raise_for_status()\n",
    "\n",
    "with open('raw_pdf/test3.pdf', 'wb') as f:\n",
    "\tf.write(req.content)"
   ]
  },
  {
   "cell_type": "code",
   "execution_count": 137,
   "metadata": {},
   "outputs": [],
   "source": [
    "reader = PdfReader(\"raw_pdf/test3.pdf\")\n",
    "pages = [page.extract_text().split('\\n') for page in reader.pages] # newline separates lines on all pages"
   ]
  },
  {
   "cell_type": "code",
   "execution_count": 138,
   "metadata": {},
   "outputs": [],
   "source": [
    "# Various regular expressions to extract data from text of results PDF\n",
    "stage_numbers_regex = re.compile(r'Stage \\d')\t\t\t\t\t# recognizes stage numbers in headers of PDF\n",
    "position_plate_name_regex = re.compile(r'\\d+\\s\\d+\\s[^a-z]+[a-z]+\\s')\t\t# finds rider position and name from individuals\n",
    "dnf_dns_plate_name_regex = re.compile(r'(DNF|DNS|DSQ)\\s\\d+\\s[^a-z]+[a-z]+\\s')\t# finds DNF/DNS rider information \n",
    "stage_position_regex = re.compile(r'\\d:\\d\\d:\\d\\d\\.\\d\\d \\d+') \t\t\t# recognizes the a stage with its position\n",
    "stage_time_regex = re.compile(r'(\\d:\\d\\d:\\d\\d\\.\\d\\d)') \t\t\t\t# recognizes each stage time (assumes all stages  <10 hours)\n",
    "gap_regex = re.compile(r'\\+\\d:\\d\\d:\\d\\d\\.\\d\\d') \t\t\t\t# determines gap from overall leader \n",
    "penalty_regex = re.compile(r'\\d:\\d\\d:\\d\\d\\.\\d\\d\\s+\\d:\\d\\d:\\d\\d\\.\\d\\d') \t\t# penalty values occur before overall stage results\n",
    "rider_id_regex = re.compile(r'\\w{3}\\.[\\d\\w\\s]+\\.[\\d\\w]+') \t\t\t# gets rider ID from results\n",
    "lastname_regex = re.compile(r'\\s[^a-z0-9]+')\t\t\t\t\t# recognizes lastname - located between plate and firstname, no lowercase or numbers\n",
    "firstname_regex = re.compile(r'[A-Z][a-z]+')\t\t\t\t\t# recognizes firstname - first capital letter then lowercase \n",
    "position_plate_regex = re.compile(r'\\d+\\s\\d+')\t\t\t\t\t# recognizes the position and plate\n",
    "dnf_dns_plate_regex = re.compile(r'(DNF|DNS|DSQ)\\s\\d+')\t\t\t\t# recognizes DNF/DNS/DSQ along with plate\n",
    "\n",
    "#TODO need better regex for firstname/lastname - see G.T. CLYNE\n"
   ]
  },
  {
   "cell_type": "code",
   "execution_count": 139,
   "metadata": {},
   "outputs": [],
   "source": [
    "pdf_header = pages[0][:5]\n",
    "columns = pdf_header[0] + pdf_header[1] # first two lines are the column names for the file\n",
    "\n",
    "# race information\n",
    "num_stages = len(stage_numbers_regex.findall(columns)) # store the total number of stages based upon header\n",
    "race_date = pdf_header[3]\n",
    "race_location = pdf_header[2]\n",
    "race_type = 'standard'\n",
    "\n",
    "race_info = [race_date, race_location, race_type]\n",
    "\n",
    "header_race_info = ['date', 'race_location', 'race_type']\n",
    "header_rider_info = ['rider_category','rider_plate', 'rider_lastname', 'rider_firstname', 'rider_id', 'rider_final_position',\n",
    "\t      'rider_penalties' , 'rider_final_time' , 'gap_from_first']\n",
    "header_rider_stage_results = ['stage_'+str(i)+'_time' for i in range(1,num_stages+1)] + ['stage_'+str(i)+'_pos' for i in range(1,num_stages+1)]\n",
    "# df_list = [['rider_num', 'rider_name', 'rider_id', 'rider_final_position' + 'rider_final_time'] + ['stage_'+str(i)+'time']]\n",
    "\n",
    "race_header_info = [header_race_info + header_rider_info + header_rider_stage_results]"
   ]
  },
  {
   "cell_type": "code",
   "execution_count": 120,
   "metadata": {},
   "outputs": [
    {
     "data": {
      "text/plain": [
       "['March 24 - 25, 2018', 'Lo Barnechea, Chile', 'standard']"
      ]
     },
     "execution_count": 120,
     "metadata": {},
     "output_type": "execute_result"
    }
   ],
   "source": [
    "race_info"
   ]
  },
  {
   "cell_type": "code",
   "execution_count": 153,
   "metadata": {},
   "outputs": [],
   "source": [
    "def ews_pdf_to_csv(pdf_location, csv_location='csv_output/'):\n",
    "\n",
    "\t# read in PDF and convert each page to list of strings\n",
    "\treader = PdfReader(pdf_location)\n",
    "\tpages = [page.extract_text().split('\\n') for page in reader.pages] # newline separates lines on all pages\n",
    "\n",
    "\tpdf_header = pages[0][:5]\n",
    "\tcolumns = pdf_header[0] + pdf_header[1] # first two lines are the column names for the file\n",
    "\n",
    "\t# race information\n",
    "\tnum_stages = len(stage_numbers_regex.findall(columns)) # store the total number of stages based upon header\n",
    "\trace_date = pdf_header[3]\n",
    "\trace_location = pdf_header[2]\n",
    "\trace_type = 'standard'\n",
    "\n",
    "\trace_info = [race_date, race_location, race_type]\n",
    "\n",
    "\theader_race_info = ['date', 'race_location', 'race_type']\n",
    "\theader_rider_info = ['rider_category','rider_plate', 'rider_lastname', 'rider_firstname', 'rider_id', 'rider_final_position',\n",
    "\t\t'rider_penalties' , 'rider_final_time' , 'gap_from_first']\n",
    "\theader_rider_stage_results = ['stage_'+str(i)+'_time' for i in range(1,num_stages+1)] + ['stage_'+str(i)+'_pos' for i in range(1,num_stages+1)]\n",
    "\t# df_list = [['rider_num', 'rider_name', 'rider_id', 'rider_final_position' + 'rider_final_time'] + ['stage_'+str(i)+'time']]\n",
    "\n",
    "\trace_header_info = [header_race_info + header_rider_info + header_rider_stage_results]\n",
    "\n",
    "\tall_results = race_header_info\n",
    "\n",
    "\n",
    "\tfor page in pages:\n",
    "\n",
    "\t\tis_results_page = pdf_header[0] == page[0] # checks if the first line of the page matches the header\n",
    "\t\t\n",
    "\t\tif is_results_page:\n",
    "\t\t\ti = 5 # start after header\n",
    "\t\t\trider_catagory = ''\n",
    "\n",
    "\t\t\t# iterate over all lines except final (which contains metadata)\n",
    "\t\t\twhile i < len(page) - 1:\n",
    "\n",
    "\t\t\t\tppnr = position_plate_name_regex.search(page[i])\n",
    "\t\t\t\tddr = dnf_dns_plate_name_regex.search(page[i])\n",
    "\n",
    "\t\t\t\tif ppnr or ddr: # check if line contains rider information \n",
    "\t\t\t\t\tresult = copy.deepcopy(race_info)\n",
    "\n",
    "\t\t\t\t\tline1 = page[i]\n",
    "\t\t\t\t\ti += 1\n",
    "\t\t\t\t\tline2 = page[i]\n",
    "\n",
    "\t\t\t\t\tfix = stage_time_regex.sub(r' \\1', line1+line2) # adds space before each stage time - used to fix issue with formatting of underlines\n",
    "\t\t\t\t\tfix = fix.replace('+ ', '+') # removes space before gap time\n",
    "\n",
    "\t\t\t\t\tif ppnr:\n",
    "\t\t\t\t\t\tinfo = ppnr.group()\n",
    "\t\t\t\t\t\tppr = position_plate_regex.search(info)\n",
    "\t\t\t\t\t\t\t\t\t\t\n",
    "\t\t\t\t\telse:\n",
    "\t\t\t\t\t\tinfo = ddr.group()\n",
    "\t\t\t\t\t\tppr = dnf_dns_plate_regex.search(info)\n",
    "\t\t\t\t\t\n",
    "\t\t\t\t\tposition, plate = ppr.group().split(' ')\n",
    "\t\t\t\t\t\n",
    "\t\t\t\t\tlastname = lastname_regex.search(info).group()\n",
    "\t\t\t\t\tlastname = lastname[1:-2]\n",
    "\t\t\t\t\tfirstname = firstname_regex.search(info).group()\n",
    "\n",
    "\t\t\t\t\tspr = stage_position_regex.findall(fix)\n",
    "\t\t\t\t\tspr = [s.split(' ') for s in spr]\t\n",
    "\n",
    "\t\t\t\t\trir = rider_id_regex.search(fix)\n",
    "\t\t\t\t\tpr = penalty_regex.search(fix)\n",
    "\t\t\t\t\tgr = gap_regex.search(fix)\n",
    "\t\t\t\t\tst = stage_time_regex.findall(line1)\n",
    "\t\t\t\t\t\n",
    "\n",
    "\t\t\t\t\trider_num = None\n",
    "\t\t\t\t\tif rir:\n",
    "\t\t\t\t\t\trider_num = rir.group()\n",
    "\n",
    "\t\t\t\t\tpenalty_time = None\n",
    "\t\t\t\t\tif pr:\n",
    "\t\t\t\t\t\tpenalty_time = pr.group().split(' ')[0]\n",
    "\n",
    "\t\t\t\t\tresult += [rider_category, plate, lastname, firstname, rider_num, position, penalty]\n",
    "\n",
    "\t\t\t\t\tif ppnr:\n",
    "\t\t\t\t\t\tif gr:\n",
    "\t\t\t\t\t\t\tfinal_time = st[-2]\n",
    "\t\t\t\t\t\t\tgap \t   = st[-1]\n",
    "\t\t\t\t\t\telse:\n",
    "\t\t\t\t\t\t\tfinal_time = st[-1]\n",
    "\t\t\t\t\t\t\tgap = '0:00:00.00'\n",
    "\n",
    "\t\t\t\t\t\tresult += [final_time, gap]\n",
    "\t\t\t\t\t\tresult += [stage_time for stage_time, stage_pos in spr]\n",
    "\t\t\t\t\t\tresult += [stage_pos for stage_time, stage_pos in spr]\n",
    "\n",
    "\t\t\t\t\telse:\n",
    "\t\t\t\t\t\tresult += [None, None] # no gap or final time for DNF/DNS/DSQ\n",
    "\t\t\t\t\t\tstage_diff = num_stages - len(spr) # calculate how many stages were not completed\n",
    "\n",
    "\t\t\t\t\t\tresult += [stage_time for stage_time, stage_pos in spr] + [None for _ in range(stage_diff)]\n",
    "\t\t\t\t\t\tresult += [stage_pos for stage_time, stage_pos in spr] + [None for _ in range(stage_diff)]\n",
    "\n",
    "\t\t\t\t\tall_results.append(result)\n",
    "\t\t\t\t\ti += 1\t\t\t\t\n",
    "\t\t\t\t\t\n",
    "\t\t\t\telse:\t# otherwise, this is category information for the following riders\n",
    "\t\t\t\t\trider_category = page[i]\n",
    "\t\t\t\t\ti += 1\n",
    "\t\n",
    "\tpdf_filename = os.path.split(pdf_location)[1][:-4]\n",
    "\n",
    "\twith open(csv_location + pdf_filename + '.csv', 'w', newline='') as cw:\n",
    "\t\twriter = csv.writer(cw)\n",
    "\t\tfor row in all_results:\n",
    "\t\t\twriter.writerow(row)\n"
   ]
  },
  {
   "cell_type": "code",
   "execution_count": 154,
   "metadata": {},
   "outputs": [],
   "source": [
    "ews_pdf_to_csv(\"raw_pdf/test3.pdf\")"
   ]
  },
  {
   "cell_type": "code",
   "execution_count": 147,
   "metadata": {},
   "outputs": [
    {
     "data": {
      "text/plain": [
       "('raw_pdf', 'test3.pdf')"
      ]
     },
     "execution_count": 147,
     "metadata": {},
     "output_type": "execute_result"
    }
   ],
   "source": [
    "os.path.split(\"raw_pdf/test3.pdf\")"
   ]
  },
  {
   "cell_type": "code",
   "execution_count": 141,
   "metadata": {},
   "outputs": [],
   "source": [
    "df = pd.read_csv()"
   ]
  },
  {
   "cell_type": "code",
   "execution_count": null,
   "metadata": {},
   "outputs": [],
   "source": []
  },
  {
   "cell_type": "code",
   "execution_count": 122,
   "metadata": {},
   "outputs": [
    {
     "data": {
      "text/plain": [
       "False"
      ]
     },
     "execution_count": 122,
     "metadata": {},
     "output_type": "execute_result"
    }
   ],
   "source": [
    "pages[-1][0] == pdf_header[0]"
   ]
  },
  {
   "cell_type": "code",
   "execution_count": 126,
   "metadata": {},
   "outputs": [
    {
     "data": {
      "text/plain": [
       "True"
      ]
     },
     "execution_count": 126,
     "metadata": {},
     "output_type": "execute_result"
    }
   ],
   "source": [
    "len(all_results[0]) == len(all_results[1])"
   ]
  },
  {
   "cell_type": "code",
   "execution_count": 127,
   "metadata": {},
   "outputs": [
    {
     "data": {
      "text/plain": [
       "['March 24 - 25, 2018',\n",
       " 'Lo Barnechea, Chile',\n",
       " 'standard',\n",
       " 'MEN',\n",
       " '1',\n",
       " 'HILL',\n",
       " 'Sam',\n",
       " 'AUS.1985.21775',\n",
       " '1',\n",
       " None,\n",
       " '0:55:02.18',\n",
       " '0:00:00.00',\n",
       " '0:05:12.25',\n",
       " '0:18:07.96',\n",
       " '0:05:26.70',\n",
       " '0:09:55.25',\n",
       " '0:04:07.43',\n",
       " '0:12:12.59',\n",
       " '2',\n",
       " '1',\n",
       " '2',\n",
       " '2',\n",
       " '1',\n",
       " '1']"
      ]
     },
     "execution_count": 127,
     "metadata": {},
     "output_type": "execute_result"
    }
   ],
   "source": [
    "all_results[1]"
   ]
  },
  {
   "cell_type": "code",
   "execution_count": 11,
   "metadata": {},
   "outputs": [],
   "source": [
    "page2 = page2text.split('\\n')"
   ]
  },
  {
   "cell_type": "code",
   "execution_count": 94,
   "metadata": {},
   "outputs": [
    {
     "data": {
      "text/plain": [
       "['Pos Plate Name Nat Stage 1 Pos Stage 2 Pos Stage 3 Pos Stage 4 Pos Penalties Time Gap',\n",
       " '   Team EMBA Stage 5 Pos Stage 6 Pos Stage 7 PosCrankworx Rotorua Giant Toa Enduro',\n",
       " 'Rotorua, New Zealand',\n",
       " 'March 26, 2017',\n",
       " 'RESULTS OVERALL',\n",
       " 'MEN | Master 40+',\n",
       " '17 724 TAGUE Alex 0:04:08.14 10 0:06:10.11 9 0:07:12.94 27 0:07:44.67 11 0:50:45.24 +0:11:11.53',\n",
       " ' NZL.TAGA.1976 0:11:52.82 21 0:06:53.99 24 0:06:42.57 14',\n",
       " '18 729 DAWSON Guy 0:04:43.30 21 0:07:14.50 24 0:06:32.52 20 0:09:08.07 22 0:51:33.69 +0:11:59.98',\n",
       " ' 0:10:44.76 15 0:06:12.16 17 0:06:58.38 18',\n",
       " '19 730 SCHAUT Duncan 0:05:04.41 25 0:07:12.12 23 0:06:01.95 16 0:08:48.45 21 0:51:37.63 +0:12:03.92',\n",
       " ' 0:10:54.67 17 0:06:29.37 20 0:07:06.66 19',\n",
       " '20 717 PIRES Armando 0:04:40.32 20 0:07:00.89 20 0:06:28.87 18 0:08:35.49 20 0:51:50.61 +0:12:16.90',\n",
       " ' BRA.PIRA.1974 0:11:32.84 20 0:06:22.62 18 0:07:09.58 21',\n",
       " '21 728 SPRAGUE Steve 0:04:48.68 23 0:07:02.20 21 0:06:47.25 23 0:09:09.64 23 0:54:27.44 +0:14:53.73',\n",
       " ' 0:12:54.08 23 0:06:38.83 21 0:07:06.76 20',\n",
       " '22 709 MIER Richard 0:04:58.22 24 0:07:34.93 27 0:06:35.76 22 0:09:38.70 25 0:55:25.27 +0:15:51.56',\n",
       " ' GBR.MIER.1972 0:12:48.54 22 0:06:26.57 19 0:07:22.55 23',\n",
       " '23 718 JAGGY Raphael 0:05:10.61 26 0:07:14.98 25 0:06:50.18 24 0:09:24.28 24 0:57:51.66 +0:18:17.95',\n",
       " ' SUI.JAGR.1971 0:15:08.10 25 0:06:42.23 22 0:07:21.28 22',\n",
       " '24 721 NOBLE Andrew 0:05:18.85 28 0:07:57.14 29 0:08:17.04 28 0:11:11.19 26 1:06:23.22 +0:26:49.51',\n",
       " ' AUS.NOBA.1974 0:18:47.78 26 0:06:53.07 23 0:07:58.15 24',\n",
       " 'DNF 726 EGGLESTON Erin 0:04:16.37 13 0:06:22.97 12 0:05:15.12 9 0:07:43.91 10',\n",
       " ' 0:09:16.98 8',\n",
       " 'DNF 727 SPANBROEK Paul 0:04:44.49 22 0:06:40.94 16 0:06:55.67 26 0:08:16.65 18',\n",
       " ' 0:13:48.95 24',\n",
       " 'DNF 716 GRAHAM Kel 0:06:38.88 31 0:08:19.28 30 0:09:37.69 30 0:17:43.24 27',\n",
       " ' AUS.GRAK.1969',\n",
       " 'DNF 713 BADDILEY Jono 0:04:17.29 14 0:06:42.49 17 0:06:02.40 17',\n",
       " ' NZL.BADJ.1971',\n",
       " 'DNF 732 EASTMAN Lance 0:05:12.76 27 0:07:23.47 26 0:06:50.62 25',\n",
       " 'DNF 733 STILWELL Gordon 0:05:23.90 29 0:07:46.87 28 0:08:29.52 29',\n",
       " 'DNF 715 ADAMS Geoff 0:07:09.57 32 0:09:44.06 32 0:14:51.18 31',\n",
       " ' AUS.ADAG.1966',\n",
       " 'DNF 714 SHEPHEARD Jason 0:05:53.26 30 0:08:41.67 31 0:22:17.25 32',\n",
       " ' AUS.SHEJ.1972',\n",
       " '12/20 created on 02.05.2017 16:45:57 Timing and results by']"
      ]
     },
     "execution_count": 94,
     "metadata": {},
     "output_type": "execute_result"
    }
   ],
   "source": [
    "# note the issues with the underlines \n",
    "pages[11].split('\\n')"
   ]
  },
  {
   "cell_type": "code",
   "execution_count": 80,
   "metadata": {},
   "outputs": [],
   "source": [
    "line1 = '4 13 HILL Sam 0:03:28.58 22 0:05:44.14 28 0:04:55.69 190:06:44.10 1 0:37:40.33 +0:00:08.61'\n",
    "line2 = '  Chain Reaction Cycles Mavic AUS.HILS.1985 0:07:19.73 7 0:04:17.81 20:05:10.28 1'\n",
    "\n",
    "line1 = '147 122 DA SILVA Goncalo 0:04:11.38 125 0:09:38.38 157 0:07:50.37 154 0:11:31.81 153 0:01:00.00 1:10:34.72 +0:33:03.00'\n",
    "line2 = ' POR.DA G.1987 0:19:28.41 147 0:08:13.09 148 0:08:41.28 148'\n",
    "\n",
    "fix = stage_time_regex.sub(r' \\1', line1+line2) # adds space before each stage time - used to fix issue with formatting of underlines\n",
    "fix = fix.replace('+ ', '+') # removes space before gap time"
   ]
  },
  {
   "cell_type": "code",
   "execution_count": 26,
   "metadata": {},
   "outputs": [
    {
     "data": {
      "text/plain": [
       "'147 122 DA SILVA Goncalo  0:04:11.38 125  0:09:38.38 157  0:07:50.37 154  0:11:31.81 153  0:01:00.00  1:10:34.72 +0:33:03.00 POR.DA G.1987  0:19:28.41 147  0:08:13.09 148  0:08:41.28 148'"
      ]
     },
     "execution_count": 26,
     "metadata": {},
     "output_type": "execute_result"
    }
   ],
   "source": [
    "fix"
   ]
  },
  {
   "cell_type": "code",
   "execution_count": 81,
   "metadata": {},
   "outputs": [],
   "source": [
    "ppnr = position_plate_name_regex.search(fix)\n",
    "spr = stage_position_regex.findall(fix)\n",
    "rir = rider_id_regex.search(fix)"
   ]
  },
  {
   "cell_type": "code",
   "execution_count": 28,
   "metadata": {},
   "outputs": [],
   "source": [
    "pr = penalty_regex.search(fix)"
   ]
  },
  {
   "cell_type": "code",
   "execution_count": 29,
   "metadata": {},
   "outputs": [
    {
     "data": {
      "text/plain": [
       "'0:01:00.00  1:10:34.72'"
      ]
     },
     "execution_count": 29,
     "metadata": {},
     "output_type": "execute_result"
    }
   ],
   "source": [
    "pr.group()"
   ]
  },
  {
   "cell_type": "code",
   "execution_count": 65,
   "metadata": {},
   "outputs": [
    {
     "data": {
      "text/plain": [
       "'147 122 DA SILVA Goncalo '"
      ]
     },
     "execution_count": 65,
     "metadata": {},
     "output_type": "execute_result"
    }
   ],
   "source": [
    "ppnr.group()"
   ]
  },
  {
   "cell_type": "code",
   "execution_count": 82,
   "metadata": {},
   "outputs": [],
   "source": [
    "spr = [s.split(' ') for s in spr]"
   ]
  },
  {
   "cell_type": "code",
   "execution_count": 83,
   "metadata": {},
   "outputs": [
    {
     "data": {
      "text/plain": [
       "[['0:04:11.38', '125'],\n",
       " ['0:09:38.38', '157'],\n",
       " ['0:07:50.37', '154'],\n",
       " ['0:11:31.81', '153'],\n",
       " ['0:19:28.41', '147'],\n",
       " ['0:08:13.09', '148'],\n",
       " ['0:08:41.28', '148']]"
      ]
     },
     "execution_count": 83,
     "metadata": {},
     "output_type": "execute_result"
    }
   ],
   "source": [
    "spr"
   ]
  },
  {
   "cell_type": "code",
   "execution_count": 39,
   "metadata": {},
   "outputs": [
    {
     "data": {
      "text/plain": [
       "'POR.DA G.1987'"
      ]
     },
     "execution_count": 39,
     "metadata": {},
     "output_type": "execute_result"
    }
   ],
   "source": [
    "rir.group()"
   ]
  },
  {
   "cell_type": "markdown",
   "metadata": {},
   "source": []
  }
 ],
 "metadata": {
  "kernelspec": {
   "display_name": "Python 3.7.3 ('base')",
   "language": "python",
   "name": "python3"
  },
  "language_info": {
   "codemirror_mode": {
    "name": "ipython",
    "version": 3
   },
   "file_extension": ".py",
   "mimetype": "text/x-python",
   "name": "python",
   "nbconvert_exporter": "python",
   "pygments_lexer": "ipython3",
   "version": "3.7.3"
  },
  "orig_nbformat": 4,
  "vscode": {
   "interpreter": {
    "hash": "95fc6b46201b03e388ee93255aacead15bb4c5a805a1325bd67fb6d36cada86c"
   }
  }
 },
 "nbformat": 4,
 "nbformat_minor": 2
}
