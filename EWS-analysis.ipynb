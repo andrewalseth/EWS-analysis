{
 "cells": [
  {
   "cell_type": "markdown",
   "metadata": {},
   "source": [
    "# Enduro World Series (EWS) web scraping and analysis\n",
    "\n",
    "This notebook downloads and analyzes the results from the EWS from its inception to current, and we carry out analysis on these results.\n",
    "\n",
    "First, we begin by downloading results and scraping the files from https://www.enduroworldseries.com/"
   ]
  },
  {
   "cell_type": "code",
   "execution_count": 4,
   "metadata": {},
   "outputs": [],
   "source": [
    "import bs4\n",
    "import requests"
   ]
  },
  {
   "cell_type": "code",
   "execution_count": 11,
   "metadata": {},
   "outputs": [],
   "source": [
    "# test download of 2016 results\n",
    "\n",
    "test_url = \"https://www.enduroworldseries.com/races/1/2016/\" \n",
    "req = requests.get(test_url)\n",
    "\n",
    "try:\n",
    "\treq.raise_for_status()\n",
    "except Exception as e:\n",
    "\tprint(f'Downloading failed: {e}')\n",
    "\n",
    "ews_soup = bs4.BeautifulSoup(req.text, \"html.parser\")"
   ]
  },
  {
   "cell_type": "code",
   "execution_count": 23,
   "metadata": {},
   "outputs": [],
   "source": [
    "# for link in ews_soup.find_all('a'):\n",
    "# \turl = link.get('href')\n",
    "# \t# print(link.get('href'))\n",
    "# \tif 'race' in url:\n",
    "# \t\tprint(url)\n",
    "links = ews_soup.find_all('a')\n",
    "links = [link.get(\"href\") for link in links]\n",
    "\n",
    "race_list_URL = [test_url[:-14]+link for link in links if 'race' in link]"
   ]
  },
  {
   "cell_type": "code",
   "execution_count": 24,
   "metadata": {},
   "outputs": [
    {
     "name": "stdout",
     "output_type": "stream",
     "text": [
      "https://www.enduroworldseries.com/race/ews-round-1/ews-tweed-valley/202186/\n",
      "https://www.enduroworldseries.com/race/ews-round-2/ews-petzen-jamnica/202187/\n",
      "https://www.enduroworldseries.com/race/ews-round-3/ews-val-di-fassa-trentino/202188/\n",
      "https://www.enduroworldseries.com/race/ews-round-4/ews-whistler/202189/\n",
      "https://www.enduroworldseries.com/race/ews-round-5/ews-burke/202190/\n",
      "https://www.enduroworldseries.com/race/ews-round-6/ews-sugarloaf/202191/\n",
      "https://www.enduroworldseries.com/race/ews-round-7/ews-crans-montana/202192/\n",
      "https://www.enduroworldseries.com/race/ews-round-8/ews-loudenvielle/202193/\n",
      "https://www.enduroworldseries.com/races/5/2022/\n",
      "https://www.enduroworldseries.com/races/1/2022/\n",
      "https://www.enduroworldseries.com/race/e-series/ews-e-tweed-valley/202194/\n",
      "https://www.enduroworldseries.com/race/e-series/ews-e-petzen-jamnica/202195/\n",
      "https://www.enduroworldseries.com/race/e-series/ews-e-valberg/202196/\n",
      "https://www.enduroworldseries.com/race/e-series/ews-e-crans-montana/202197/\n",
      "https://www.enduroworldseries.com/race/e-series/ews-e-finale-ligure/202198/\n",
      "https://www.enduroworldseries.com/races/6/2022/\n",
      "https://www.enduroworldseries.com/race/qualifiers/\n",
      "https://www.enduroworldseries.com/races/\n",
      "https://www.enduroworldseries.com/race/ews-round-1/ews-tweed-valley/202186/results/\n",
      "https://www.enduroworldseries.com/race/ews-round-2/ews-petzen-jamnica/202187/results/\n",
      "https://www.enduroworldseries.com/race/ews-round-3/ews-val-di-fassa-trentino/202188/results/\n",
      "https://www.enduroworldseries.com/race/ews-round-4/ews-whistler/202189/results/\n",
      "https://www.enduroworldseries.com/race/ews-round-5/ews-burke/202190/results/\n",
      "https://www.enduroworldseries.com/race/ews-round-6/ews-sugarloaf/202191/results/\n",
      "https://www.enduroworldseries.com/race/ews-round-7/ews-crans-montana/202192/results/\n",
      "https://www.enduroworldseries.com/race/ews-round-8/ews-loudenvielle/202193/results/\n",
      "https://www.enduroworldseries.com/races/1/2022/\n",
      "https://www.enduroworldseries.com/races/1/2021/\n",
      "https://www.enduroworldseries.com/races/1/2020/\n",
      "https://www.enduroworldseries.com/races/1/2019/\n",
      "https://www.enduroworldseries.com/races/1/2018/\n",
      "https://www.enduroworldseries.com/races/1/2017/\n",
      "https://www.enduroworldseries.com/races/1/2016/\n",
      "https://www.enduroworldseries.com/races/1/2015/\n",
      "https://www.enduroworldseries.com/races/1/2014/\n",
      "https://www.enduroworldseries.com/races/1/2013/\n",
      "https://www.enduroworldseries.com/races/6/2022/\n",
      "https://www.enduroworldseries.com/races/6/2021/\n",
      "https://www.enduroworldseries.com/races/6/2020/\n",
      "https://www.enduroworldseries.com/races/5/2022/\n",
      "https://www.enduroworldseries.com/races/5/2021/\n",
      "https://www.enduroworldseries.com/races/5/2020/\n",
      "https://www.enduroworldseries.com/races/5/2019/\n",
      "https://www.enduroworldseries.com/race/tier2/european/\n",
      "https://www.enduroworldseries.com/race/tier2/european/2020/\n",
      "https://www.enduroworldseries.com/race/tier2/european/2019/\n",
      "https://www.enduroworldseries.com/race/tier2/european/2018/\n",
      "https://www.enduroworldseries.com/race/tier2/north-american/\n",
      "https://www.enduroworldseries.com/race/tier2/north-american/2020/\n",
      "https://www.enduroworldseries.com/race/tier2/north-american/2019/\n",
      "https://www.enduroworldseries.com/race/tier2/north-american/2018/\n",
      "https://www.enduroworldseries.com/race/tier2/south-american/\n",
      "https://www.enduroworldseries.com/race/tier2/south-american/2019/\n",
      "https://www.enduroworldseries.com/race/tier2/asian-pacific/\n",
      "https://www.enduroworldseries.com/race/tier2/asian-pacific/2020/\n",
      "https://www.enduroworldseries.com/race/tier2/asian-pacific/2019/\n",
      "https://www.enduroworldseries.com/race/tier2/asian-pacific/2018/\n",
      "https://www.enduroworldseries.com/race/qualifiers/2022/\n",
      "https://www.enduroworldseries.com/race/qualifiers/2021/\n",
      "https://www.enduroworldseries.com/race/qualifiers/2020/\n",
      "https://www.enduroworldseries.com/race/qualifiers/2019/\n",
      "https://www.enduroworldseries.com/race/qualifiers/2018/\n",
      "https://www.enduroworldseries.com/race/ews-round-1/MontenbaikEnduroWorldSeries/201601/\n",
      "https://www.enduroworldseries.com/race/ews-round-1/MontenbaikEnduroWorldSeries/201601/results/\n",
      "https://www.enduroworldseries.com/race/ews-round-2/CerroCatedralMontenbaikEnduroWorldSeriespresentedbyShimano/201602/\n",
      "https://www.enduroworldseries.com/race/ews-round-2/CerroCatedralMontenbaikEnduroWorldSeriespresentedbyShimano/201602/results/\n",
      "https://www.enduroworldseries.com/race/ews-round-3/EmeraldEnduropresentedbybikingie/201603/\n",
      "https://www.enduroworldseries.com/race/ews-round-3/EmeraldEnduropresentedbybikingie/201603/results/\n",
      "https://www.enduroworldseries.com/race/ews-round-4/LaThuile/201604/\n",
      "https://www.enduroworldseries.com/race/ews-round-4/LaThuile/201604/results/\n",
      "https://www.enduroworldseries.com/race/ews-round-5/YetiCyclesBigMountainEnduropresentedbyShimano/201605/\n",
      "https://www.enduroworldseries.com/race/ews-round-5/YetiCyclesBigMountainEnduropresentedbyShimano/201605/results/\n",
      "https://www.enduroworldseries.com/race/ews-round-6/SRAMCanadianOpenEnduropresentedbySpecialized/201606/\n",
      "https://www.enduroworldseries.com/race/ews-round-6/SRAMCanadianOpenEnduropresentedbySpecialized/201606/results/\n",
      "https://www.enduroworldseries.com/race/ews-round-7/EndurodesPortesduMercantourdrivenbyUrgeBikeProducts/201607/\n",
      "https://www.enduroworldseries.com/race/ews-round-7/EndurodesPortesduMercantourdrivenbyUrgeBikeProducts/201607/results/\n",
      "https://www.enduroworldseries.com/race/ews-round-8/BluegrassFinaleEnduropoweredbySRAM/201608/\n",
      "https://www.enduroworldseries.com/race/ews-round-8/BluegrassFinaleEnduropoweredbySRAM/201608/results/\n"
     ]
    }
   ],
   "source": [
    "for l in race_list_URL:\n",
    "\tprint(l)"
   ]
  },
  {
   "cell_type": "markdown",
   "metadata": {},
   "source": []
  }
 ],
 "metadata": {
  "kernelspec": {
   "display_name": "Python 3.7.3 ('base')",
   "language": "python",
   "name": "python3"
  },
  "language_info": {
   "codemirror_mode": {
    "name": "ipython",
    "version": 3
   },
   "file_extension": ".py",
   "mimetype": "text/x-python",
   "name": "python",
   "nbconvert_exporter": "python",
   "pygments_lexer": "ipython3",
   "version": "3.7.3"
  },
  "orig_nbformat": 4,
  "vscode": {
   "interpreter": {
    "hash": "95fc6b46201b03e388ee93255aacead15bb4c5a805a1325bd67fb6d36cada86c"
   }
  }
 },
 "nbformat": 4,
 "nbformat_minor": 2
}
