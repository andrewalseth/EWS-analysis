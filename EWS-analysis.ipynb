{
 "cells": [
  {
   "cell_type": "markdown",
   "metadata": {},
   "source": [
    "# Enduro World Series (EWS) web scraping and analysis\n",
    "\n",
    "This notebook downloads and analyzes the results from the EWS from its inception to current, and we carry out analysis on these results.\n",
    "\n",
    "First, we begin by downloading results and scraping the files from https://www.enduroworldseries.com/"
   ]
  },
  {
   "cell_type": "code",
   "execution_count": 4,
   "metadata": {},
   "outputs": [],
   "source": [
    "import bs4\n",
    "import requests"
   ]
  },
  {
   "cell_type": "code",
   "execution_count": 11,
   "metadata": {},
   "outputs": [],
   "source": [
    "# test download of 2016 results\n",
    "\n",
    "test_url = \"https://www.enduroworldseries.com/races/1/2016/\" \n",
    "req = requests.get(test_url)\n",
    "\n",
    "try:\n",
    "\treq.raise_for_status()\n",
    "except Exception as e:\n",
    "\tprint(f'Downloading failed: {e}')\n",
    "\n",
    "ews_soup = bs4.BeautifulSoup(req.text, \"html.parser\")"
   ]
  },
  {
   "cell_type": "code",
   "execution_count": 16,
   "metadata": {},
   "outputs": [],
   "source": [
    "# for link in ews_soup.find_all('a'):\n",
    "# \turl = link.get('href')\n",
    "# \t# print(link.get('href'))\n",
    "# \tif 'race' in url:\n",
    "# \t\tprint(url)\n",
    "links = ews_soup.find_all('a')\n",
    "links = [link.get(\"href\") for link in links]\n",
    "\n",
    "race_list_URLS = [test_url+link[1:] for link in links if 'race' in link]"
   ]
  },
  {
   "cell_type": "code",
   "execution_count": 17,
   "metadata": {},
   "outputs": [
    {
     "data": {
      "text/plain": [
       "78"
      ]
     },
     "execution_count": 17,
     "metadata": {},
     "output_type": "execute_result"
    }
   ],
   "source": [
    "len(race_list_URLS)"
   ]
  },
  {
   "cell_type": "markdown",
   "metadata": {},
   "source": []
  }
 ],
 "metadata": {
  "kernelspec": {
   "display_name": "Python 3.7.3 ('base')",
   "language": "python",
   "name": "python3"
  },
  "language_info": {
   "codemirror_mode": {
    "name": "ipython",
    "version": 3
   },
   "file_extension": ".py",
   "mimetype": "text/x-python",
   "name": "python",
   "nbconvert_exporter": "python",
   "pygments_lexer": "ipython3",
   "version": "3.7.3"
  },
  "orig_nbformat": 4,
  "vscode": {
   "interpreter": {
    "hash": "95fc6b46201b03e388ee93255aacead15bb4c5a805a1325bd67fb6d36cada86c"
   }
  }
 },
 "nbformat": 4,
 "nbformat_minor": 2
}
